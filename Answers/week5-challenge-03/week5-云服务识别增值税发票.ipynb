{
 "cells": [
  {
   "cell_type": "markdown",
   "metadata": {},
   "source": [
    "<img style=\"float: right;\" src=\"https://doc.shiyanlou.com/courses/uid214893-20190709-1562652991830\">"
   ]
  },
  {
   "cell_type": "markdown",
   "metadata": {},
   "source": [
    "## 云服务识别增值税发票"
   ]
  },
  {
   "cell_type": "markdown",
   "metadata": {},
   "source": [
    "---"
   ]
  },
  {
   "cell_type": "markdown",
   "metadata": {},
   "source": [
    "<i class=\"fa fa-exclamation-circle\" aria-hidden=\"true\"> 以下内容仅包含挑战需学员补充部分的参考答案，完整挑战请到原课程页面查看。</i>"
   ]
  },
  {
   "cell_type": "markdown",
   "metadata": {},
   "source": [
    "---"
   ]
  },
  {
   "cell_type": "code",
   "execution_count": null,
   "metadata": {},
   "outputs": [],
   "source": [
    "import base64\n",
    "import requests\n",
    "from PIL import Image\n",
    "from io import BytesIO\n",
    "\n",
    "# 请求网络图片\n",
    "def vat_ocr(url):\n",
    "    response = requests.get(url)\n",
    "    image = base64.b64encode(response.content)  # 需按照 API 将图片处理成 Base64 编码\n",
    "\n",
    "    # 参考官方文档使用 AK 和 SK 获取 access_token 授权码\n",
    "    API_KEY = '0HUECBnp7enxo2EpiI8kqP5I'\n",
    "    SECRET_KEY = 'DdomRyxgwZepSX4mSlo1mroZu2YLN8jN'\n",
    "\n",
    "    token_url = f'https://aip.baidubce.com/oauth/2.0/token?grant_type=client_credentials&client_id={API_KEY}&client_secret={SECRET_KEY}'\n",
    "    access_token = requests.get(url=token_url).json()['access_token']\n",
    "\n",
    "    # 将 access_token 添加至请求 URL 参数中\n",
    "    vat_url = f\"https://aip.baidubce.com/rest/2.0/ocr/v1/vat_invoice?access_token={access_token}\"\n",
    "    # 请求增值税发票识别 API\n",
    "    r = requests.post(url=vat_url, data={'image': image, 'accuracy': 'normal'})\n",
    "\n",
    "    return r.json()"
   ]
  },
  {
   "cell_type": "code",
   "execution_count": null,
   "metadata": {},
   "outputs": [],
   "source": [
    "vat_ocr(\"https://labfile.oss.aliyuncs.com/courses/1359/invoice-demo.png\")"
   ]
  },
  {
   "cell_type": "markdown",
   "metadata": {},
   "source": [
    "<hr><div style=\"color: #999; font-size: 12px;\"><i class=\"fa fa-copyright\" aria-hidden=\"true\"> 本课程内容版权归实验楼所有，禁止转载、下载及非法传播。</i></div>"
   ]
  }
 ],
 "metadata": {
  "kernelspec": {
   "display_name": "Python 3",
   "language": "python",
   "name": "python3"
  },
  "language_info": {
   "codemirror_mode": {
    "name": "ipython",
    "version": 3
   },
   "file_extension": ".py",
   "mimetype": "text/x-python",
   "name": "python",
   "nbconvert_exporter": "python",
   "pygments_lexer": "ipython3",
   "version": "3.6.8"
  }
 },
 "nbformat": 4,
 "nbformat_minor": 2
}

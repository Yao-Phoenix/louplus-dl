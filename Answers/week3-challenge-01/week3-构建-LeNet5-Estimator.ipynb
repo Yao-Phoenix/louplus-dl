{
 "cells": [
  {
   "cell_type": "markdown",
   "metadata": {},
   "source": [
    "<a target=\"_blank\" href=\"https://shiyanlou.com/louplus/ml\"><img style=\"float: right;\" src=\"https://doc.shiyanlou.com/courses/uid214893-20190709-1562652991830\"></a>"
   ]
  },
  {
   "cell_type": "markdown",
   "metadata": {},
   "source": [
    "## 构建 LeNet-5 Estimator"
   ]
  },
  {
   "cell_type": "markdown",
   "metadata": {},
   "source": [
    "---"
   ]
  },
  {
   "cell_type": "markdown",
   "metadata": {},
   "source": [
    "<i class=\"fa fa-exclamation-circle\" aria-hidden=\"true\"> 以下内容仅包含挑战需学员补充部分的参考答案，完整挑战请到原课程页面查看。</i>"
   ]
  },
  {
   "cell_type": "markdown",
   "metadata": {},
   "source": [
    "---"
   ]
  },
  {
   "cell_type": "code",
   "execution_count": null,
   "metadata": {},
   "outputs": [],
   "source": [
    "import tensorflow as tf\n",
    "\n",
    "\n",
    "def lenet_fn(features, labels, mode):\n",
    "    # 卷积层，6 个 5x5 卷积核，步长为 1，relu 激活，第一层需指定 input_shape\n",
    "    conv1 = tf.keras.layers.Conv2D(filters=6,\n",
    "                                   kernel_size=(5, 5),\n",
    "                                   strides=(1, 1),\n",
    "                                   activation='relu', input_shape=(32, 32, 1))(features[\"x\"])\n",
    "    # 平均池化，池化窗口默认为 2\n",
    "    pool1 = tf.keras.layers.AveragePooling2D(\n",
    "        pool_size=(2, 2), strides=2)(conv1)\n",
    "    # 卷积层，16 个 5x5 卷积核，步为 1，relu 激活\n",
    "    conv2 = tf.keras.layers.Conv2D(filters=16, kernel_size=(\n",
    "        5, 5), strides=(1, 1), activation='relu')(pool1)\n",
    "    # 平均池化，池化窗口默认为 2\n",
    "    pool2 = tf.keras.layers.AveragePooling2D(\n",
    "        pool_size=(2, 2), strides=2)(conv2)\n",
    "    # 需展平后才能与全连接层相连\n",
    "    flatten = tf.keras.layers.Flatten()(pool2)\n",
    "    # 全连接层，输出为 120，relu 激活\n",
    "    fc1 = tf.keras.layers.Dense(units=120, activation='relu')(flatten)\n",
    "    # 全连接层，输出为 84，relu 激活\n",
    "    fc2 = tf.keras.layers.Dense(units=84, activation='relu')(fc1)\n",
    "    # 全连接层，输出为 10，Softmax 激活\n",
    "    logits = tf.keras.layers.Dense(units=10, activation='softmax')(fc2)\n",
    "\n",
    "    # 计算损失\n",
    "    loss = tf.losses.sparse_softmax_cross_entropy(labels=labels, logits=logits)\n",
    "\n",
    "    # 训练模式\n",
    "    if mode == tf.estimator.ModeKeys.TRAIN:\n",
    "        optimizer = tf.train.AdamOptimizer(learning_rate=0.001)\n",
    "        train_op = optimizer.minimize(\n",
    "            loss=loss, global_step=tf.train.get_global_step())\n",
    "        return tf.estimator.EstimatorSpec(mode=mode, loss=loss, train_op=train_op)\n",
    "\n",
    "    # 评估模式\n",
    "    if mode == tf.estimator.ModeKeys.EVAL:\n",
    "        eval_metric_ops = {\n",
    "            \"accuracy\": tf.metrics.accuracy(\n",
    "                labels=labels, predictions=tf.argmax(input=logits, axis=1))}\n",
    "        return tf.estimator.EstimatorSpec(mode=mode, loss=loss, eval_metric_ops=eval_metric_ops)"
   ]
  },
  {
   "cell_type": "code",
   "execution_count": null,
   "metadata": {},
   "outputs": [],
   "source": [
    "mnist_lenet = tf.estimator.Estimator(model_fn=lenet_fn)\n",
    "mnist_lenet"
   ]
  },
  {
   "cell_type": "code",
   "execution_count": null,
   "metadata": {},
   "outputs": [],
   "source": [
    "train_input_fn = tf.estimator.inputs.numpy_input_fn(\n",
    "    x={\"x\": X_train.astype('float32')},\n",
    "    y=y_train.astype('int32'),\n",
    "    batch_size=32,\n",
    "    num_epochs=3,\n",
    "    shuffle=True)"
   ]
  },
  {
   "cell_type": "code",
   "execution_count": null,
   "metadata": {
    "scrolled": true
   },
   "outputs": [],
   "source": [
    "mnist_lenet.train(input_fn=train_input_fn)"
   ]
  },
  {
   "cell_type": "code",
   "execution_count": null,
   "metadata": {},
   "outputs": [],
   "source": [
    "eval_input_fn = tf.estimator.inputs.numpy_input_fn(\n",
    "    x={\"x\": X_test.astype('float32')},\n",
    "    y=y_test.astype('int32'),\n",
    "    batch_size=32,\n",
    "    num_epochs=1,\n",
    "    shuffle=False)"
   ]
  },
  {
   "cell_type": "code",
   "execution_count": null,
   "metadata": {
    "scrolled": true
   },
   "outputs": [],
   "source": [
    "mnist_lenet.evaluate(input_fn=eval_input_fn)"
   ]
  },
  {
   "cell_type": "markdown",
   "metadata": {},
   "source": [
    "<hr><div style=\"color: #999; font-size: 12px;\"><i class=\"fa fa-copyright\" aria-hidden=\"true\"> 本课程内容版权归实验楼所有，禁止转载、下载及非法传播。</i></div>"
   ]
  }
 ],
 "metadata": {
  "kernelspec": {
   "display_name": "Python 3",
   "language": "python",
   "name": "python3"
  },
  "language_info": {
   "codemirror_mode": {
    "name": "ipython",
    "version": 3
   },
   "file_extension": ".py",
   "mimetype": "text/x-python",
   "name": "python",
   "nbconvert_exporter": "python",
   "pygments_lexer": "ipython3",
   "version": "3.6.8"
  }
 },
 "nbformat": 4,
 "nbformat_minor": 2
}

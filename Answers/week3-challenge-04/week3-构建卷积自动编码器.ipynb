{
 "cells": [
  {
   "cell_type": "markdown",
   "metadata": {},
   "source": [
    "<a target=\"_blank\" href=\"https://shiyanlou.com/louplus/ml\"><img style=\"float: right;\" src=\"https://doc.shiyanlou.com/courses/uid214893-20190709-1562652991830\"></a>"
   ]
  },
  {
   "cell_type": "markdown",
   "metadata": {},
   "source": [
    "## 构建卷积自动编码器"
   ]
  },
  {
   "cell_type": "markdown",
   "metadata": {},
   "source": [
    "---"
   ]
  },
  {
   "cell_type": "markdown",
   "metadata": {},
   "source": [
    "<i class=\"fa fa-exclamation-circle\" aria-hidden=\"true\"> 以下内容仅包含挑战需学员补充部分的参考答案，完整挑战请到原课程页面查看。</i>"
   ]
  },
  {
   "cell_type": "markdown",
   "metadata": {},
   "source": [
    "---"
   ]
  },
  {
   "cell_type": "markdown",
   "metadata": {},
   "source": [
    "<font color='red'><i class=\"fa fa-check-square\" aria-hidden=\"true\"> 挑战</i></font>：按照下图所示的网络结构矢量图，使用 `tf.keras` API 定义一个卷积自动编码器网络。"
   ]
  },
  {
   "cell_type": "code",
   "execution_count": null,
   "metadata": {},
   "outputs": [],
   "source": [
    "input_ = tf.keras.layers.Input(shape=(28, 28, 1))\n",
    "\n",
    "conv1 = tf.keras.layers.Conv2D(32, (3, 3), activation='relu', padding='same')(input_)\n",
    "encoded = tf.keras.layers.MaxPooling2D((2, 2), padding='same')(conv1)\n",
    "\n",
    "up1 = tf.keras.layers.UpSampling2D((2, 2))(encoded)\n",
    "decoded = tf.keras.layers.Conv2D(1, (3, 3), activation='sigmoid', padding='same')(up1)\n",
    "\n",
    "model = tf.keras.models.Model(input_, decoded)\n",
    "model.compile(optimizer='Adam', loss='binary_crossentropy')"
   ]
  },
  {
   "cell_type": "markdown",
   "metadata": {},
   "source": [
    "<font color='red'><i class=\"fa fa-check-square\" aria-hidden=\"true\"> 挑战</i></font>：完成自动编码器网络训练，并参考实验内容，使用前 5 个测试样本来对比去噪前后的效果。"
   ]
  },
  {
   "cell_type": "code",
   "execution_count": null,
   "metadata": {},
   "outputs": [],
   "source": [
    "X_train_noisy = X_train_noisy.reshape(-1, 28, 28, 1)\n",
    "X_train = X_train.reshape(-1, 28, 28, 1)\n",
    "model.fit(X_train_noisy, X_train, batch_size=64, epochs=3)"
   ]
  },
  {
   "cell_type": "code",
   "execution_count": null,
   "metadata": {},
   "outputs": [],
   "source": [
    "from matplotlib import pyplot as plt\n",
    "%matplotlib inline\n",
    "\n",
    "n = 5\n",
    "decoded_code = model.predict(\n",
    "    X_test_noisy[:n].reshape(-1, 28, 28, 1))  # 自动编码器推理\n",
    "plt.figure(figsize=(10, 6))\n",
    "for i in range(n):\n",
    "    # 输出原始测试样本图像\n",
    "    ax = plt.subplot(3, n, i+1)\n",
    "    plt.imshow(X_test_noisy[i].reshape(28, 28), cmap='gray')\n",
    "    ax.get_xaxis().set_visible(False)\n",
    "    ax.get_yaxis().set_visible(False)\n",
    "\n",
    "    # 输出自动编码器去噪后的图像\n",
    "    ax = plt.subplot(3, n, i+n+1)\n",
    "    plt.imshow(decoded_code[i].reshape(28, 28), cmap='gray')\n",
    "    ax.get_xaxis().set_visible(False)\n",
    "    ax.get_yaxis().set_visible(False)"
   ]
  },
  {
   "cell_type": "markdown",
   "metadata": {},
   "source": [
    "<hr><div style=\"color: #999; font-size: 12px;\"><i class=\"fa fa-copyright\" aria-hidden=\"true\"> 本课程内容版权归实验楼所有，禁止转载、下载及非法传播。</i></div>"
   ]
  }
 ],
 "metadata": {
  "kernelspec": {
   "display_name": "Python 3",
   "language": "python",
   "name": "python3"
  },
  "language_info": {
   "codemirror_mode": {
    "name": "ipython",
    "version": 3
   },
   "file_extension": ".py",
   "mimetype": "text/x-python",
   "name": "python",
   "nbconvert_exporter": "python",
   "pygments_lexer": "ipython3",
   "version": "3.6.8"
  }
 },
 "nbformat": 4,
 "nbformat_minor": 2
}

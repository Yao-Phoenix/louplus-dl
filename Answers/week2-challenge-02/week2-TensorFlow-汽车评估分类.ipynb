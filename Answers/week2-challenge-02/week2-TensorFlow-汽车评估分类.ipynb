{
 "cells": [
  {
   "cell_type": "markdown",
   "metadata": {},
   "source": [
    "<a target=\"_blank\" href=\"https://shiyanlou.com/louplus/ml\"><img style=\"float: right;\" src=\"https://doc.shiyanlou.com/courses/uid214893-20190709-1562652991830\"></a>"
   ]
  },
  {
   "cell_type": "markdown",
   "metadata": {},
   "source": [
    "## TensorFlow 汽车评估分类"
   ]
  },
  {
   "cell_type": "markdown",
   "metadata": {},
   "source": [
    "---"
   ]
  },
  {
   "cell_type": "markdown",
   "metadata": {},
   "source": [
    "<i class=\"fa fa-exclamation-circle\" aria-hidden=\"true\"> 以下内容仅包含挑战需学员补充部分的参考答案，完整挑战请到原课程页面查看。</i>"
   ]
  },
  {
   "cell_type": "markdown",
   "metadata": {},
   "source": [
    "---"
   ]
  },
  {
   "cell_type": "code",
   "execution_count": null,
   "metadata": {},
   "outputs": [],
   "source": [
    "X_train = pd.get_dummies(X_train).values\n",
    "X_test = pd.get_dummies(X_test).values\n",
    "y_train = pd.get_dummies(y_train).values\n",
    "y_test = pd.get_dummies(y_test).values\n",
    "X_train.shape, X_test.shape, y_train.shape, y_test.shape"
   ]
  },
  {
   "cell_type": "code",
   "execution_count": null,
   "metadata": {},
   "outputs": [],
   "source": [
    "import tensorflow as tf\n",
    "\n",
    "def fully_connected(inputs, weights, biases):\n",
    "    \"\"\"\n",
    "    inputs -- 输入 Variable\n",
    "    weights -- 权重项 Variable\n",
    "    biases -- 截距项 Variable\n",
    "    \"\"\"\n",
    "    layer = tf.add(tf.matmul(inputs, weights), biases)  # 输入 x 权重 + 截距\n",
    "    output = tf.nn.relu(layer)  # RELU 激活\n",
    "    return output"
   ]
  },
  {
   "cell_type": "code",
   "execution_count": null,
   "metadata": {},
   "outputs": [],
   "source": [
    "x = tf.placeholder(tf.float32, [None, 21])  # 输入特征张量占位符\n",
    "\n",
    "# 全连接层 1\n",
    "W1 = tf.Variable(tf.random.uniform([21, 15]))  # 随机初始化权重\n",
    "b1 = tf.Variable(tf.random.uniform([15]))\n",
    "fc1 = fully_connected(x, W1, b1)\n",
    "\n",
    "# 全连接层 2\n",
    "W2 = tf.Variable(tf.random.uniform([15, 4]))\n",
    "b2 = tf.Variable(tf.random.uniform([4]))\n",
    "outs = fully_connected(fc1, W2, b2)\n",
    "\n",
    "outs  # 输出"
   ]
  },
  {
   "cell_type": "code",
   "execution_count": null,
   "metadata": {},
   "outputs": [],
   "source": [
    "y = tf.placeholder(tf.float32, [None, 4])  # 真实值标签占位符\n",
    "\n",
    "# 交叉熵损失函数，reduce_mean 的目的是对每个样本的计算结果求平均\n",
    "loss = tf.reduce_mean(\n",
    "    tf.nn.softmax_cross_entropy_with_logits_v2(logits=outs, labels=y))\n",
    "loss"
   ]
  },
  {
   "cell_type": "code",
   "execution_count": null,
   "metadata": {},
   "outputs": [],
   "source": [
    "train_step = tf.train.AdamOptimizer(0.01).minimize(loss)\n",
    "train_step"
   ]
  },
  {
   "cell_type": "code",
   "execution_count": null,
   "metadata": {},
   "outputs": [],
   "source": [
    "acc = tf.reduce_mean(tf.cast(tf.math.in_top_k(\n",
    "    outs, tf.math.argmax(y, 1), k=1), tf.float32))  # 准确率计算"
   ]
  },
  {
   "cell_type": "code",
   "execution_count": null,
   "metadata": {},
   "outputs": [],
   "source": [
    "iters = 1000  # 迭代次数\n",
    "feed_dict_train = {x: X_train, y: y_train}  # 训练数据\n",
    "feed_dict_test = {x: X_test, y: y_test}  # 测试数据\n",
    "init = tf.global_variables_initializer()  # 初始化全局变量\n",
    "with tf.Session() as sess:\n",
    "    sess.run(init)\n",
    "    for i in range(iters):\n",
    "        if (i+1) % 100 == 0:  # 每间隔 100 次打印 loss 值\n",
    "            print(\"Iters [{}/{}], Train Acc [{:.3f}], Test Acc [{:.3f}]\".format(\n",
    "                i+1, iters, acc.eval(feed_dict=feed_dict_train), acc.eval(feed_dict=feed_dict_test)))\n",
    "        sess.run(train_step, feed_dict=feed_dict_train)"
   ]
  },
  {
   "cell_type": "markdown",
   "metadata": {},
   "source": [
    "<hr><div style=\"color: #999; font-size: 12px;\"><i class=\"fa fa-copyright\" aria-hidden=\"true\"> 本课程内容版权归实验楼所有，禁止转载、下载及非法传播。</i></div>"
   ]
  }
 ],
 "metadata": {
  "kernelspec": {
   "display_name": "Python 3",
   "language": "python",
   "name": "python3"
  },
  "language_info": {
   "codemirror_mode": {
    "name": "ipython",
    "version": 3
   },
   "file_extension": ".py",
   "mimetype": "text/x-python",
   "name": "python",
   "nbconvert_exporter": "python",
   "pygments_lexer": "ipython3",
   "version": "3.6.8"
  }
 },
 "nbformat": 4,
 "nbformat_minor": 2
}

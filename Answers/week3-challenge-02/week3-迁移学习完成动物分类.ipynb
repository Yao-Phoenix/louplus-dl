{
 "cells": [
  {
   "cell_type": "markdown",
   "metadata": {},
   "source": [
    "<a target=\"_blank\" href=\"https://shiyanlou.com/louplus/ml\"><img style=\"float: right;\" src=\"https://doc.shiyanlou.com/courses/uid214893-20190709-1562652991830\"></a>"
   ]
  },
  {
   "cell_type": "markdown",
   "metadata": {},
   "source": [
    "## 迁移学习完成动物分类"
   ]
  },
  {
   "cell_type": "markdown",
   "metadata": {},
   "source": [
    "---"
   ]
  },
  {
   "cell_type": "markdown",
   "metadata": {},
   "source": [
    "<i class=\"fa fa-exclamation-circle\" aria-hidden=\"true\"> 以下内容仅包含挑战需学员补充部分的参考答案，完整挑战请到原课程页面查看。</i>"
   ]
  },
  {
   "cell_type": "markdown",
   "metadata": {},
   "source": [
    "---"
   ]
  },
  {
   "cell_type": "code",
   "execution_count": null,
   "metadata": {
    "scrolled": false
   },
   "outputs": [],
   "source": [
    "import requests\n",
    "import numpy as np\n",
    "from matplotlib import pyplot as plt\n",
    "%matplotlib inline\n",
    "\n",
    "IMAGE_URL = input(\"请输入图片链接:\")\n",
    "\n",
    "res = requests.get(IMAGE_URL)\n",
    "with open(\"test.jpg\", \"wb\") as f:\n",
    "    f.write(res.content)\n",
    "\n",
    "image = tf.keras.preprocessing.image.load_img(\n",
    "    \"test.jpg\", target_size=(224, 224))\n",
    "image_a = tf.keras.preprocessing.image.img_to_array(image)\n",
    "image_e = np.expand_dims(image_a, axis=0)\n",
    "image_i = tf.keras.applications.mobilenet_v2.preprocess_input(image_e)\n",
    "preds = np.argmax(model.predict(image_i))\n",
    "\n",
    "if preds == 0:\n",
    "    title = \"cat\"\n",
    "elif preds == 1:\n",
    "    title = \"dog\"\n",
    "else:\n",
    "    title = \"horse\"\n",
    "\n",
    "plt.title(\"prediction: {}\".format(title))\n",
    "plt.imshow(image)"
   ]
  },
  {
   "cell_type": "markdown",
   "metadata": {},
   "source": [
    "<hr><div style=\"color: #999; font-size: 12px;\"><i class=\"fa fa-copyright\" aria-hidden=\"true\"> 本课程内容版权归实验楼所有，禁止转载、下载及非法传播。</i></div>"
   ]
  }
 ],
 "metadata": {
  "kernelspec": {
   "display_name": "Python 3",
   "language": "python",
   "name": "python3"
  },
  "language_info": {
   "codemirror_mode": {
    "name": "ipython",
    "version": 3
   },
   "file_extension": ".py",
   "mimetype": "text/x-python",
   "name": "python",
   "nbconvert_exporter": "python",
   "pygments_lexer": "ipython3",
   "version": "3.6.8"
  }
 },
 "nbformat": 4,
 "nbformat_minor": 2
}

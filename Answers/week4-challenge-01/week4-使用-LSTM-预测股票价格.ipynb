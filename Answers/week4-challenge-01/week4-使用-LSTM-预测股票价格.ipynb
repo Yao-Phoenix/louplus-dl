{
 "cells": [
  {
   "cell_type": "markdown",
   "metadata": {},
   "source": [
    "<img style=\"float: right;\" src=\"https://doc.shiyanlou.com/document-uid214893labid7506timestamp1545810031942.png\">"
   ]
  },
  {
   "cell_type": "markdown",
   "metadata": {},
   "source": [
    "## 使用 LSTM 预测股票价格"
   ]
  },
  {
   "cell_type": "markdown",
   "metadata": {},
   "source": [
    "---"
   ]
  },
  {
   "cell_type": "markdown",
   "metadata": {},
   "source": [
    "<i class=\"fa fa-exclamation-circle\" aria-hidden=\"true\"> 以下内容仅包含挑战需学员补充部分的参考答案，完整挑战请到原课程页面查看。</i>"
   ]
  },
  {
   "cell_type": "markdown",
   "metadata": {},
   "source": [
    "---"
   ]
  },
  {
   "cell_type": "markdown",
   "metadata": {},
   "source": [
    "<font color='red'><i class=\"fa fa-check-square\" aria-hidden=\"true\"> 挑战</i></font>：使用 TensorFlow Keras 序贯模型搭建方法构建 LSTM 模型。"
   ]
  },
  {
   "cell_type": "code",
   "execution_count": null,
   "metadata": {
    "scrolled": true
   },
   "outputs": [],
   "source": [
    "import tensorflow as tf\n",
    "\n",
    "### 代码开始 ### (≈ 4 行代码)\n",
    "model = tf.keras.Sequential()\n",
    "model.add(tf.keras.layers.LSTM(32, input_shape=(1, 1), return_sequences=True))\n",
    "model.add(tf.keras.layers.LSTM(16))\n",
    "model.add(tf.keras.layers.Dense(1))\n",
    "### 代码结束 ###"
   ]
  },
  {
   "cell_type": "markdown",
   "metadata": {},
   "source": [
    "<font color='red'><i class=\"fa fa-check-square\" aria-hidden=\"true\"> 挑战</i></font>：编译并训练上面定义的 LSTM 模型。"
   ]
  },
  {
   "cell_type": "code",
   "execution_count": null,
   "metadata": {
    "scrolled": false
   },
   "outputs": [],
   "source": [
    "### 代码开始 ### (≈ 2 行代码)\n",
    "model.compile(loss='mse', optimizer='adam')\n",
    "model.fit(np.atleast_3d(train_t0),\n",
    "          train_t1.reshape(-1), epochs=5, batch_size=32)\n",
    "### 代码结束 ###"
   ]
  },
  {
   "cell_type": "markdown",
   "metadata": {},
   "source": [
    "<font color='red'><i class=\"fa fa-check-square\" aria-hidden=\"true\"> 挑战</i></font>：测试并绘制真实结果和预测结果的对比图像。"
   ]
  },
  {
   "cell_type": "code",
   "execution_count": null,
   "metadata": {},
   "outputs": [],
   "source": [
    "test_pred = model.predict(np.atleast_3d(test_t0))  # 测试数据预测\n",
    "test_pred = scaler.inverse_transform(test_pred)  # 数据还原"
   ]
  },
  {
   "cell_type": "code",
   "execution_count": null,
   "metadata": {},
   "outputs": [],
   "source": [
    "# 以原数据格式，对预测部分进行替换，训练部分数据设为 NAN 方便绘制到同一张图中\n",
    "df_pred = df.copy()\n",
    "df_pred[len(df_pred)-len(test_pred):] = test_pred.reshape(-1)\n",
    "df_pred[:-len(test_pred)] = np.nan"
   ]
  },
  {
   "cell_type": "code",
   "execution_count": null,
   "metadata": {},
   "outputs": [],
   "source": [
    "# 计算 MAPE 结果\n",
    "def mape(y_true, y_pred):\n",
    "    n = len(y_true)\n",
    "    mape = 100 * np.sum(np.abs((y_true-y_pred)/y_true)) / n\n",
    "    return mape\n",
    "\n",
    "\n",
    "y_true = df[len(df_pred)-len(test_pred):].values\n",
    "y_pred = test_pred.reshape(-1)\n",
    "mape = mape(y_true, y_pred)"
   ]
  },
  {
   "cell_type": "code",
   "execution_count": null,
   "metadata": {},
   "outputs": [],
   "source": [
    "plt.plot(df, 'g')\n",
    "plt.plot(df_pred, 'r')\n",
    "plt.title(f\"MAPE: {mape}\")"
   ]
  },
  {
   "cell_type": "markdown",
   "metadata": {},
   "source": [
    "<hr><div style=\"color: #999; font-size: 12px;\"><i class=\"fa fa-copyright\" aria-hidden=\"true\"> 本课程内容版权归实验楼所有，禁止转载、下载及非法传播。</i></div>"
   ]
  }
 ],
 "metadata": {
  "kernelspec": {
   "display_name": "Python 3",
   "language": "python",
   "name": "python3"
  },
  "language_info": {
   "codemirror_mode": {
    "name": "ipython",
    "version": 3
   },
   "file_extension": ".py",
   "mimetype": "text/x-python",
   "name": "python",
   "nbconvert_exporter": "python",
   "pygments_lexer": "ipython3",
   "version": "3.6.8"
  }
 },
 "nbformat": 4,
 "nbformat_minor": 2
}

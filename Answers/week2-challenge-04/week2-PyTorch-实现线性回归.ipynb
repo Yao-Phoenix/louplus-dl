{
 "cells": [
  {
   "cell_type": "markdown",
   "metadata": {},
   "source": [
    "<a target=\"_blank\" href=\"https://shiyanlou.com/louplus/ml\"><img style=\"float: right;\" src=\"https://doc.shiyanlou.com/courses/uid214893-20190709-1562652991830\"></a>"
   ]
  },
  {
   "cell_type": "markdown",
   "metadata": {},
   "source": [
    "## PyTorch 实现线性回归"
   ]
  },
  {
   "cell_type": "markdown",
   "metadata": {},
   "source": [
    "---"
   ]
  },
  {
   "cell_type": "markdown",
   "metadata": {},
   "source": [
    "<i class=\"fa fa-exclamation-circle\" aria-hidden=\"true\"> 以下内容仅包含挑战需学员补充部分的参考答案，完整挑战请到原课程页面查看。</i>"
   ]
  },
  {
   "cell_type": "markdown",
   "metadata": {},
   "source": [
    "---"
   ]
  },
  {
   "cell_type": "markdown",
   "metadata": {},
   "source": [
    "<font color='red'><i class=\"fa fa-check-square\" aria-hidden=\"true\"> 挑战</i></font>：继承 `torch.nn.Module` 类实现挑战所需的 `LinearRegressionModel()` 线性回归类。"
   ]
  },
  {
   "cell_type": "code",
   "execution_count": null,
   "metadata": {},
   "outputs": [],
   "source": [
    "import torch.nn as nn\n",
    "\n",
    "### 代码开始 ### (> 5 行代码)\n",
    "class LinearRegressionModel(nn.Module):\n",
    "    def __init__(self):\n",
    "        super(LinearRegressionModel, self).__init__()\n",
    "        self.linear = nn.Linear(1, 1)\n",
    "\n",
    "    def forward(self, x):\n",
    "        out = self.linear(x)\n",
    "        return out\n",
    "### 代码结束 ###"
   ]
  },
  {
   "cell_type": "markdown",
   "metadata": {},
   "source": [
    "<font color='red'><i class=\"fa fa-check-square\" aria-hidden=\"true\"> 挑战</i></font>：定义 MSE 损失函数及随机梯度下降优化器。"
   ]
  },
  {
   "cell_type": "code",
   "execution_count": null,
   "metadata": {},
   "outputs": [],
   "source": [
    "model = LinearRegressionModel()  # 实例化模型\n",
    "\n",
    "### 代码开始 ### (≈ 2 行代码)\n",
    "loss_fn = nn.MSELoss()  # 定义损失函数\n",
    "opt = torch.optim.SGD(model.parameters(), lr=0.01)  # 定义优化器\n",
    "### 代码开始 ### (≈ 3 行代码)"
   ]
  },
  {
   "cell_type": "markdown",
   "metadata": {},
   "source": [
    "<font color='red'><i class=\"fa fa-check-square\" aria-hidden=\"true\"> 挑战</i></font>：完成线性回归参数优化迭代过程。"
   ]
  },
  {
   "cell_type": "code",
   "execution_count": null,
   "metadata": {
    "scrolled": false
   },
   "outputs": [],
   "source": [
    "### 代码开始 ### (> 5 行代码)\n",
    "iters = 100\n",
    "for i in range(iters):\n",
    "\n",
    "    x = x.reshape(len(x), 1)  # 输入 x 张量\n",
    "    y = y.reshape(len(x), 1)  # 输入 y 张量\n",
    "\n",
    "    y_ = model(x)  # 前向传播\n",
    "    loss = loss_fn(y_, y)  # 计算损失\n",
    "\n",
    "    opt.zero_grad()  # 优化器梯度清零，否则会累计\n",
    "    loss.backward()  # 从最后 loss 开始反向传播\n",
    "    opt.step()  # 优化器迭代\n",
    "    \n",
    "    if (i+1) % 10 == 0:\n",
    "        print('Iteration [{}/{}], Loss: {:.3f}'\n",
    "              .format(i+1, iters, loss.item()))\n",
    "### 代码结束 ###"
   ]
  },
  {
   "cell_type": "markdown",
   "metadata": {},
   "source": [
    "<font color='red'><i class=\"fa fa-check-square\" aria-hidden=\"true\"> 挑战</i></font>：根据拟合参数，将拟合直线绘制到图像中。"
   ]
  },
  {
   "cell_type": "code",
   "execution_count": null,
   "metadata": {},
   "outputs": [],
   "source": [
    "### 代码开始 ### (≈ 4 行代码)\n",
    "weight = model.state_dict()['linear.weight']  # 权重\n",
    "bias = model.state_dict()['linear.bias']  # 偏置项\n",
    "\n",
    "plt.scatter(x, y, c='black')\n",
    "plt.plot([0, 11], [bias, weight * 11 + bias], 'r')\n",
    "### 代码结束 ###"
   ]
  },
  {
   "cell_type": "markdown",
   "metadata": {},
   "source": [
    "<hr><div style=\"color: #999; font-size: 12px;\"><i class=\"fa fa-copyright\" aria-hidden=\"true\"> 本课程内容版权归实验楼所有，禁止转载、下载及非法传播。</i></div>"
   ]
  }
 ],
 "metadata": {
  "kernelspec": {
   "display_name": "Python 3",
   "language": "python",
   "name": "python3"
  },
  "language_info": {
   "codemirror_mode": {
    "name": "ipython",
    "version": 3
   },
   "file_extension": ".py",
   "mimetype": "text/x-python",
   "name": "python",
   "nbconvert_exporter": "python",
   "pygments_lexer": "ipython3",
   "version": "3.6.8"
  }
 },
 "nbformat": 4,
 "nbformat_minor": 2
}

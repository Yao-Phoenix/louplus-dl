{
 "cells": [
  {
   "cell_type": "markdown",
   "metadata": {},
   "source": [
    "<a target=\"_blank\" href=\"https://shiyanlou.com/louplus/ml\"><img style=\"float: right;\" src=\"https://doc.shiyanlou.com/courses/uid214893-20190709-1562652991830\"></a>"
   ]
  },
  {
   "cell_type": "markdown",
   "metadata": {},
   "source": [
    "## 梯度下降法实现与应用"
   ]
  },
  {
   "cell_type": "markdown",
   "metadata": {},
   "source": [
    "---"
   ]
  },
  {
   "cell_type": "markdown",
   "metadata": {},
   "source": [
    "<i class=\"fa fa-exclamation-circle\" aria-hidden=\"true\"> 以下内容仅包含挑战需学员补充部分的参考答案，完整挑战请到原课程页面查看。</i>"
   ]
  },
  {
   "cell_type": "markdown",
   "metadata": {},
   "source": [
    "---"
   ]
  },
  {
   "cell_type": "markdown",
   "metadata": {},
   "source": [
    "<font color='red'><i class=\"fa fa-check-square\" aria-hidden=\"true\"> 挑战</i></font>：根据公式（4）完成普通最小二乘法代数计算函数。"
   ]
  },
  {
   "cell_type": "code",
   "execution_count": null,
   "metadata": {},
   "outputs": [],
   "source": [
    "def ols_algebra(x, y):\n",
    "    \"\"\"\n",
    "    参数:\n",
    "    x -- 自变量数组\n",
    "    y -- 因变量数组\n",
    "\n",
    "    返回:\n",
    "    w1 -- 线性方程系数\n",
    "    w0 -- 线性方程截距项\n",
    "    \"\"\"\n",
    "    \n",
    "    ### 代码开始 ### (≈ 3 行代码)\n",
    "    n = len(x)\n",
    "    w1 = (n*sum(x*y) - sum(x)*sum(y))/(n*sum(x*x) - sum(x)*sum(x))\n",
    "    w0 = (sum(x*x)*sum(y) - sum(x)*sum(x*y))/(n*sum(x*x)-sum(x)*sum(x))\n",
    "    ### 代码结束 ###\n",
    "    \n",
    "    return w1, w0"
   ]
  },
  {
   "cell_type": "markdown",
   "metadata": {},
   "source": [
    "<font color='red'><i class=\"fa fa-check-square\" aria-hidden=\"true\"> 挑战</i></font>：根据公式（3）和公式（5）完成普通最小二乘法代数计算函数。"
   ]
  },
  {
   "cell_type": "code",
   "execution_count": null,
   "metadata": {},
   "outputs": [],
   "source": [
    "def ols_gradient_descent(x, y, lr, num_iter):\n",
    "    \"\"\"\n",
    "    参数:\n",
    "    x -- 自变量数组\n",
    "    y -- 因变量数组\n",
    "    lr -- 学习率\n",
    "    num_iter -- 迭代次数\n",
    "\n",
    "    返回:\n",
    "    w1 -- 线性方程系数\n",
    "    w0 -- 线性方程截距项\n",
    "    \"\"\"\n",
    "\n",
    "    ### 代码开始 ### (> 5 行代码)\n",
    "\n",
    "    w1 = 0  # 初始参数为 0\n",
    "    w0 = 0  # 初始参数为 0\n",
    "\n",
    "    for i in range(num_iter):  # 梯度下降迭代\n",
    "        # 计算近似值\n",
    "        y_hat = (w1 * x) + w0\n",
    "        # 计算参数对应梯度\n",
    "        w1_gradient = -2 * sum(x * (y - y_hat))\n",
    "        w0_gradient = -2 * sum(y - y_hat)\n",
    "        # 根据梯度更新参数\n",
    "        w1 -= lr * w1_gradient\n",
    "        w0 -= lr * w0_gradient\n",
    "\n",
    "    ### 代码结束 ###\n",
    "\n",
    "    return w1, w0"
   ]
  },
  {
   "cell_type": "markdown",
   "metadata": {},
   "source": [
    "<hr><div style=\"color: #999; font-size: 12px;\"><i class=\"fa fa-copyright\" aria-hidden=\"true\"> 本课程内容版权归实验楼所有，禁止转载、下载及非法传播。</i></div>"
   ]
  }
 ],
 "metadata": {
  "kernelspec": {
   "display_name": "Python 3",
   "language": "python",
   "name": "python3"
  },
  "language_info": {
   "codemirror_mode": {
    "name": "ipython",
    "version": 3
   },
   "file_extension": ".py",
   "mimetype": "text/x-python",
   "name": "python",
   "nbconvert_exporter": "python",
   "pygments_lexer": "ipython3",
   "version": "3.6.8"
  }
 },
 "nbformat": 4,
 "nbformat_minor": 2
}
